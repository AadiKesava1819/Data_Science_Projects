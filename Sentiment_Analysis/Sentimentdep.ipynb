{
 "cells": [
  {
   "cell_type": "code",
   "execution_count": 1,
   "id": "96bad682-9aac-4c7d-95a0-1785c9d77d80",
   "metadata": {},
   "outputs": [],
   "source": [
    "import pandas as pd\n",
    "import streamlit as st\n",
    "import pickle\n",
    "import warnings\n",
    "warnings.filterwarnings('ignore')"
   ]
  },
  {
   "cell_type": "code",
   "execution_count": 2,
   "id": "ea4f54f4-836f-4d4a-b263-9adfb09f3077",
   "metadata": {},
   "outputs": [],
   "source": [
    "model = pickle.load(open('model1.pkl','rb'))"
   ]
  },
  {
   "cell_type": "code",
   "execution_count": 3,
   "id": "64cad0c6-615a-4e96-9568-779587bbdbef",
   "metadata": {},
   "outputs": [
    {
     "name": "stderr",
     "output_type": "stream",
     "text": [
      "2025-06-12 18:50:22.523 \n",
      "  \u001b[33m\u001b[1mWarning:\u001b[0m to view this Streamlit app on a browser, run it with the following\n",
      "  command:\n",
      "\n",
      "    streamlit run C:\\Users\\saswa\\anaconda3\\Lib\\site-packages\\ipykernel_launcher.py [ARGUMENTS]\n"
     ]
    },
    {
     "data": {
      "text/plain": [
       "DeltaGenerator()"
      ]
     },
     "execution_count": 3,
     "metadata": {},
     "output_type": "execute_result"
    }
   ],
   "source": [
    "st.title(\"Sentiment Analyzer\")"
   ]
  },
  {
   "cell_type": "code",
   "execution_count": 4,
   "id": "539cac7c-d3d3-4ad1-81f3-caadb55fdf7d",
   "metadata": {},
   "outputs": [
    {
     "name": "stderr",
     "output_type": "stream",
     "text": [
      "2025-06-12 18:50:54.995 Session state does not function when running a script without `streamlit run`\n"
     ]
    }
   ],
   "source": [
    "user_input = st.text_area(\"Enter your review here:\", height=150)"
   ]
  },
  {
   "cell_type": "code",
   "execution_count": 5,
   "id": "7e9e3743-7487-438f-820b-153682279e5c",
   "metadata": {},
   "outputs": [],
   "source": [
    "import re\n",
    "import spacy\n",
    "nlp= spacy.load('en_core_web_sm')\n",
    "def data_clean(x):\n",
    "  data = ' '.join(re.findall('\\w+',x))\n",
    "  data1 = nlp(data)\n",
    "  cleaned_text = [token.lemma_ for token in data1 if not token.is_stop and not token.is_punct and not token.is_bracket and not token.is_digit and not token.is_currency]\n",
    "  return ' '.join(cleaned_text)"
   ]
  },
  {
   "cell_type": "code",
   "execution_count": 6,
   "id": "4d4a87d9-7bf7-4195-bed2-1676a0ff2b74",
   "metadata": {},
   "outputs": [],
   "source": [
    "vectorizer = pickle.load(open('model2.pkl','rb'))"
   ]
  },
  {
   "cell_type": "code",
   "execution_count": 20,
   "id": "17312878-978a-459d-9548-8cd97538380f",
   "metadata": {},
   "outputs": [],
   "source": [
    "if st.button(\"Predict Sentiment\"):\n",
    "    if user_input.strip() == \"\":\n",
    "        st.warning(\"Please enter a review to analyze.\")\n",
    "    else:\n",
    "        with st.spinner(\"Analyzing sentiment...\"):\n",
    "            cleaned = data_clean(user_input)\n",
    "            vectorized = vectorizer.transform([cleaned])\n",
    "            prediction = model.predict(vectorized)[0]\n",
    "            st.markdown(\"### Prediction Result\")\n",
    "            if prediction == 2:\n",
    "                st.markdown('Positive', unsafe_allow_html=True)\n",
    "            elif prediction == 1:\n",
    "                st.markdown('Negetive', unsafe_allow_html=True)\n",
    "            else:\n",
    "                st.markdown('Neutral', unsafe_allow_html=True)\n",
    "    "
   ]
  }
 ],
 "metadata": {
  "kernelspec": {
   "display_name": "Python 3 (ipykernel)",
   "language": "python",
   "name": "python3"
  },
  "language_info": {
   "codemirror_mode": {
    "name": "ipython",
    "version": 3
   },
   "file_extension": ".py",
   "mimetype": "text/x-python",
   "name": "python",
   "nbconvert_exporter": "python",
   "pygments_lexer": "ipython3",
   "version": "3.12.7"
  }
 },
 "nbformat": 4,
 "nbformat_minor": 5
}
